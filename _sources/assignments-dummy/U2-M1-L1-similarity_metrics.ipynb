{
 "cells": [
  {
   "cell_type": "markdown",
   "id": "e383c6e4",
   "metadata": {},
   "source": [
    "Before you turn this problem in, make sure everything runs as expected. First, **restart the kernel** (in the menubar, select Kernel$\\rightarrow$Restart) and then **run all cells** (in the menubar, select Cell$\\rightarrow$Run All).\n",
    "\n",
    "**IMPORTANT: DO NOT COPY OR SPLIT CELLS.** If you do, you'll mess the autograder. If need more cells to work or test things out, create a new cell. You may add as many new cells as you need.\n",
    "\n",
    "Make sure you fill in any place that says `YOUR CODE HERE` or \"YOUR ANSWER HERE\", as well as your name and group below:"
   ]
  },
  {
   "cell_type": "code",
   "execution_count": null,
   "id": "db3d2993",
   "metadata": {},
   "outputs": [],
   "source": [
    "COURSE = \"Unsupervised Learning 2021\"\n",
    "GROUP = \"D8A\"\n",
    "NAME = \"\" # Match your GitHub Classroom ID"
   ]
  },
  {
   "cell_type": "markdown",
   "id": "2270d923",
   "metadata": {},
   "source": [
    "---"
   ]
  },
  {
   "cell_type": "markdown",
   "id": "9844000a",
   "metadata": {},
   "source": [
    "# **Warning**:\n",
    "\n",
    "Make sure your whole notebooks executes in a reasonable amount of time (< 10 min), less it will not be graded."
   ]
  },
  {
   "cell_type": "code",
   "execution_count": null,
   "id": "b2cb4178",
   "metadata": {},
   "outputs": [],
   "source": [
    "import numpy as np\n",
    "import pandas as pd\n",
    "from sklearn.neighbors import NearestNeighbors\n",
    "from numba import jit, njit\n",
    "import numba\n",
    "from collections import Counter\n",
    "import matplotlib.pyplot as plt\n",
    "from itertools import product"
   ]
  },
  {
   "cell_type": "markdown",
   "id": "e8ebdb6a",
   "metadata": {},
   "source": [
    "# Exercise 1 (2 pt)\n",
    "\n",
    "Compute the simple matching coefficient, cosine similarity, and the Jaccard coefficient, between the two sets {A,B,C} and {A,C,D,E}.\n",
    "\n",
    "To do so, modify the functions for each similarity to work with sets instead of vectors.\n",
    "\n",
    "Compare your functions output with a manual calculation."
   ]
  },
  {
   "cell_type": "code",
   "execution_count": null,
   "id": "3962e949",
   "metadata": {
    "deletable": false,
    "nbgrader": {
     "cell_type": "code",
     "checksum": "9323c6d30ab3760c87e5e71596346b6b",
     "grade": false,
     "grade_id": "ex1",
     "locked": false,
     "schema_version": 3,
     "solution": true,
     "task": false
    }
   },
   "outputs": [],
   "source": [
    "def smc(A, B):\n",
    "    # YOUR CODE HERE\n",
    "    raise NotImplementedError()\n",
    "    \n",
    "def cosine_s(A, B):\n",
    "    # YOUR CODE HERE\n",
    "    raise NotImplementedError()\n",
    "\n",
    "def jaccard(A, B):\n",
    "    # YOUR CODE HERE\n",
    "    raise NotImplementedError()"
   ]
  },
  {
   "cell_type": "code",
   "execution_count": null,
   "id": "52d1e358",
   "metadata": {
    "deletable": false,
    "editable": false,
    "nbgrader": {
     "cell_type": "code",
     "checksum": "2af75eaa9b277080e520cc7ffa8019d0",
     "grade": true,
     "grade_id": "ex1-test",
     "locked": true,
     "points": 1,
     "schema_version": 3,
     "solution": false,
     "task": false
    }
   },
   "outputs": [],
   "source": [
    "s1 = {'A', 'B', 'C'}\n",
    "s2 = {'A', 'C', 'D', 'E'}\n",
    "\n",
    "print(f'Simple matching coefficient: {smc(s1, s2)}')\n",
    "print(f'Cosine similarity: {cosine_s(s1, s2)}')\n",
    "print(f'Jaccard index: {jaccard(s1, s2)}')"
   ]
  },
  {
   "cell_type": "markdown",
   "id": "1900d1b9",
   "metadata": {},
   "source": [
    "# Exercise 2 (3 pt)\n",
    "\n",
    "## The data set\n",
    "\n",
    "Extraction was done by Barry Becker from the 1994 Census database. A set of reasonably clean records was extracted using the following conditions: ((AAGE>16) && (AGI>100) && (AFNLWGT>1)&& (HRSWK>0))\n",
    "\n",
    "Prediction task is to determine whether a person makes over 50K a year.\n",
    "\n",
    "\n",
    "Listing of attributes:\n",
    "\n",
    "- class: >50K, <=50K.\n",
    "\n",
    "- age: continuous.\n",
    "- workclass: Private, Self-emp-not-inc, Self-emp-inc, Federal-gov, Local-gov, State-gov, Without-pay, Never-worked.\n",
    "- fnlwgt: continuous.\n",
    "- education: Bachelors, Some-college, 11th, HS-grad, Prof-school, Assoc-acdm, Assoc-voc, 9th, 7th-8th, 12th, Masters, 1st-4th, 10th, Doctorate, 5th-6th, Preschool.\n",
    "- education-num: continuous.\n",
    "- marital-status: Married-civ-spouse, Divorced, Never-married, Separated, Widowed, Married-spouse-absent, Married-AF-spouse.\n",
    "- occupation: Tech-support, Craft-repair, Other-service, Sales, Exec-managerial, Prof-specialty, Handlers-cleaners, Machine-op-inspct, Adm-clerical, Farming-fishing, Transport-moving, Priv-house-serv, Protective-serv, Armed-Forces.\n",
    "- relationship: Wife, Own-child, Husband, Not-in-family, Other-relative, Unmarried.\n",
    "- race: White, Asian-Pac-Islander, Amer-Indian-Eskimo, Other, Black.\n",
    "- sex: Female, Male.\n",
    "- capital-gain: continuous.\n",
    "- capital-loss: continuous.\n",
    "- hours-per-week: continuous.\n",
    "- native-country: United-States, Cambodia, England, Puerto-Rico, Canada, Germany, Outlying-US(Guam-USVI-etc), India, Japan, Greece, South, China, Cuba, Iran, Honduras, Philippines, Italy, Poland, Jamaica, Vietnam, Mexico, Portugal, Ireland, France, Dominican-Republic, Laos, Ecuador, Taiwan, Haiti, Columbia, Hungary, Guatemala, Nicaragua, Scotland, Thailand, Yugoslavia, El-Salvador, Trinadad&Tobago, Peru, Hong, Holand-Netherlands."
   ]
  },
  {
   "cell_type": "code",
   "execution_count": null,
   "id": "d879c544",
   "metadata": {},
   "outputs": [],
   "source": [
    "# Load the complete data set\n",
    "with open('adult.names', 'r') as f:\n",
    "    lines = [l.strip() for l in f.readlines()][-14:]\n",
    "cols = [l.split(':')[0] for l in lines] + ['y']\n",
    "cols\n",
    "df = pd.read_csv('adult.data', names=cols, na_values='?', skipinitialspace=True)\n",
    "df = df.dropna()\n",
    "print(df.shape)\n",
    "df.head()"
   ]
  },
  {
   "cell_type": "markdown",
   "id": "1bfe2ec1",
   "metadata": {},
   "source": [
    "## Part 1 (2 pt)\n",
    "\n",
    "Using the _Adults Data Set_ from the _UCI Machine Learning Repository_ (provided), create a data set containing only the categorical attributes. Compute the nearest neighbor for each data point using \n",
    "- (a) the SMC (1 pt)\n",
    "- (b) inverse ocurrence frequency measure (1 pt)\n",
    "\n",
    "Compute the number of cases where there is a match on the class label, store them into `match_smc` and `match_iof`.\n",
    "When there are ties among NN, the 1st NN match is undefined and depends on the ordering of the data, but the distributions of distances is well defined. Use Counter class to find the distribution of distances and store the dictionaries in `dist_smc` and `dist_iof`.\n",
    "\n",
    "Hints: \n",
    "- Do not try to compute the full distance matrix, you may run into memory issues.\n",
    "- The data set is large, even at 10%, so pure Python loops will be slow, try using numba for just in time compilation. Sklearn with cythonized custom metrics may work, but I've had issues since sklearn tends to report a point as its self NN, not necessarly the first one, if many neighbors with the same distance exist.\n",
    "- Test your code with a small sample of the data to avoid waiting much time for completion during testing.\n",
    "- Note: This hints were valid for the kdd cup data set, consisiting of ~5million records, memory issues may no longer apply to the significantly smaller bank dataset\n",
    "\n",
    "Extra points if able to find a way to perform the excercise for the full KDD Cup data set in a reasonable time, using 100k rows, for SMC, my personal laptop takes ~ 5 min."
   ]
  },
  {
   "cell_type": "markdown",
   "id": "b501ecff",
   "metadata": {},
   "source": [
    "### Part a"
   ]
  },
  {
   "cell_type": "code",
   "execution_count": null,
   "id": "ae74be23",
   "metadata": {
    "deletable": false,
    "nbgrader": {
     "cell_type": "code",
     "checksum": "bb49d9fbd66da9ecacaff2c485dffd5b",
     "grade": false,
     "grade_id": "ex2-p1a",
     "locked": false,
     "schema_version": 3,
     "solution": true,
     "task": false
    }
   },
   "outputs": [],
   "source": [
    "# YOUR CODE HERE\n",
    "raise NotImplementedError()"
   ]
  },
  {
   "cell_type": "code",
   "execution_count": null,
   "id": "3dc0f351",
   "metadata": {
    "deletable": false,
    "editable": false,
    "nbgrader": {
     "cell_type": "code",
     "checksum": "419e621c8c9737f5fa00b2af15e02d14",
     "grade": true,
     "grade_id": "ex2-p1a-test",
     "locked": true,
     "points": 1,
     "schema_version": 3,
     "solution": false,
     "task": false
    }
   },
   "outputs": [],
   "source": [
    "print(f'Matches using SMC or equivalent: {match_smc}, expected arround: 20k-25k')\n",
    "print(f'The distribution of distances is: {dist_smc}')\n",
    "print('Expected:\\n{0.0: 25005,\\n 0.125: 4612,\\n 0.25: 521,\\n 0.375: 24}')"
   ]
  },
  {
   "cell_type": "markdown",
   "id": "b9489028",
   "metadata": {},
   "source": [
    "### Part b"
   ]
  },
  {
   "cell_type": "code",
   "execution_count": null,
   "id": "818bfd27",
   "metadata": {
    "deletable": false,
    "nbgrader": {
     "cell_type": "code",
     "checksum": "7cfafb43fd48e25c9bfbe76868afbeb2",
     "grade": false,
     "grade_id": "ex2-p1b",
     "locked": false,
     "schema_version": 3,
     "solution": true,
     "task": false
    }
   },
   "outputs": [],
   "source": [
    "# YOUR CODE HERE\n",
    "raise NotImplementedError()"
   ]
  },
  {
   "cell_type": "code",
   "execution_count": null,
   "id": "49984ec8",
   "metadata": {
    "deletable": false,
    "editable": false,
    "nbgrader": {
     "cell_type": "code",
     "checksum": "0b5c180d9a405f32a38ae5b49ba8eb9b",
     "grade": true,
     "grade_id": "ex2-p1b-test",
     "locked": true,
     "points": 1,
     "schema_version": 3,
     "solution": false,
     "task": false
    }
   },
   "outputs": [],
   "source": [
    "print(f'Matches using IOF or equivalent: {match_iof}, expected arround: 20k-25k')\n",
    "print(f'The top 5 distances are: {dist_iof.most_common(5)}')\n",
    "print('Expected:\\n(82.44464251281099, 803),\\n (109.87817458743599, 448),\\n (261.80004755602187, 368),\\n (93.44879430104449, 345),\\n (394.57073723935673, 332)')"
   ]
  },
  {
   "cell_type": "markdown",
   "id": "47dcc306",
   "metadata": {},
   "source": [
    "## Part 2 (1 pt)\n",
    "\n",
    "Now, create a data set using only the quantitative attributes of the data set. Use the $L_p$ norm for values $p=1,2,\\infty$ to find the nearest neighbors and count the matches. Store the matches into `match_l1`, `match_l2`, and `match_linf` respectively and distributions into `dist_l1`, `dist_l2`, and `dist_linf`. Use sklearn for this part of the assignment."
   ]
  },
  {
   "cell_type": "code",
   "execution_count": null,
   "id": "aeecf87c",
   "metadata": {
    "deletable": false,
    "nbgrader": {
     "cell_type": "code",
     "checksum": "6983fa858de0a124c3e4aa3409a1caef",
     "grade": false,
     "grade_id": "ex2-p2",
     "locked": false,
     "schema_version": 3,
     "solution": true,
     "task": false
    }
   },
   "outputs": [],
   "source": [
    "# YOUR CODE HERE\n",
    "raise NotImplementedError()"
   ]
  },
  {
   "cell_type": "code",
   "execution_count": null,
   "id": "39f3d156",
   "metadata": {
    "deletable": false,
    "editable": false,
    "nbgrader": {
     "cell_type": "code",
     "checksum": "ab1c37f80d8cd0cbc756dab559a30786",
     "grade": true,
     "grade_id": "ex2-p2-test",
     "locked": true,
     "points": 1,
     "schema_version": 3,
     "solution": false,
     "task": false
    }
   },
   "outputs": [],
   "source": [
    "print(f'Matches are: Manhattan: {match_l1}, Euclidean: {match_l2}, Chebyshev: {match_linf}')\n",
    "print('Expected (arround): Manhattan: 22097, Euclidean: 21984, Chebyshev: 21826')\n",
    "print(f'Distributions most commont:\\n Manhattan: {dist_l1.most_common(1)},\\n Euclidean: {dist_l2.most_common(1)},\\n Chebyshev: {dist_linf.most_common(1)}')\n",
    "print('Expected:\\n Manhattan: [(5.0, 884)],\\n Euclidean: [(1.0, 837)],\\n Chebyshev: [(10.0, 2507)]')"
   ]
  },
  {
   "cell_type": "markdown",
   "id": "f9d10e43",
   "metadata": {},
   "source": [
    "## Part 3 (2 pts)\n",
    "\n",
    "Repeat for the complete data set. Implement and use the mixed-attribute function, un-normalized, and transform the numerical distances to a similaroty using $s = 1/(1+d)$. Use euclidean distance for numerical attributes. Save matches and distribution into `match_mix` and `dist_mix`.\n",
    "\n",
    "\n",
    "\n",
    "Tip: Continue the numba approach to build a custom similarity metric."
   ]
  },
  {
   "cell_type": "code",
   "execution_count": null,
   "id": "8d66caa6",
   "metadata": {
    "deletable": false,
    "nbgrader": {
     "cell_type": "code",
     "checksum": "3ba67d737c3b0f0ec9ffd493f307727f",
     "grade": false,
     "grade_id": "ex2-p3",
     "locked": false,
     "schema_version": 3,
     "solution": true,
     "task": false
    }
   },
   "outputs": [],
   "source": [
    "# YOUR CODE HERE\n",
    "raise NotImplementedError()"
   ]
  },
  {
   "cell_type": "code",
   "execution_count": null,
   "id": "754aa44d",
   "metadata": {
    "deletable": false,
    "editable": false,
    "nbgrader": {
     "cell_type": "code",
     "checksum": "70a0b60d2f10088a2129742c8195d7db",
     "grade": true,
     "grade_id": "ex2-part3-test",
     "locked": true,
     "points": 1,
     "schema_version": 3,
     "solution": false,
     "task": false
    }
   },
   "outputs": [],
   "source": [
    "print(f'Matches: {match_mix}')\n",
    "print('Expected (arround): 22520')\n",
    "print(f'Distribution 4 most common:\\n {dist_mix.most_common(4)}')\n",
    "print('Expected:\\n [(0.6904761904761905, 837),\\n (0.5133882356845012, 439),\\n (0.6190476190476191, 426),\\n (1.0, 404)]')"
   ]
  },
  {
   "cell_type": "markdown",
   "id": "d2aba6ae",
   "metadata": {},
   "source": [
    "# Exercise 3 (4 pts)\n",
    "\n",
    "## Part 1 (1 pt)\n",
    "\n",
    "Implement the edit or Levenshtein distance. Provided start code is a sugestion, you may implement from scratch."
   ]
  },
  {
   "cell_type": "code",
   "execution_count": null,
   "id": "6bfcb36b",
   "metadata": {
    "deletable": false,
    "nbgrader": {
     "cell_type": "code",
     "checksum": "e8e65b79f3ee11d6805d123b257912f0",
     "grade": false,
     "grade_id": "ex3-p1",
     "locked": false,
     "schema_version": 3,
     "solution": true,
     "task": false
    }
   },
   "outputs": [],
   "source": [
    "def leveshtein_d(src, dest):\n",
    "    n = len(src)\n",
    "    m = len(dest)\n",
    "\n",
    "    if type(src) is str:\n",
    "        src = list(src)\n",
    "    if type(dest) is str:\n",
    "        dest = list(dest)\n",
    "        \n",
    "    \n",
    "    # for all i and j, d[i,j] will hold the Levenshtein distance\n",
    "    # between the first i characters of src\n",
    "    # and the first j characters of dest\n",
    "    # note that d has (n+1)*(m+1) values to account for the\n",
    "    # empty string\n",
    "\n",
    "    D = np.zeros((n+1,m+1), dtype=int)\n",
    "\n",
    "    # YOUR CODE HERE\n",
    "    raise NotImplementedError()\n",
    "    return D[n,m]"
   ]
  },
  {
   "cell_type": "code",
   "execution_count": null,
   "id": "63770055",
   "metadata": {
    "deletable": false,
    "editable": false,
    "nbgrader": {
     "cell_type": "code",
     "checksum": "ca9111fbed640c08c7a266ac066cf118",
     "grade": true,
     "grade_id": "cell-20b0d3c70d948876",
     "locked": true,
     "points": 1,
     "schema_version": 3,
     "solution": false,
     "task": false
    }
   },
   "outputs": [],
   "source": [
    "print(f'Leveshtein distance between \"sitting\" and \"kitten\" should be 3, calculated distance: {leveshtein_d(\"sitting\", \"kitten\")}')"
   ]
  },
  {
   "cell_type": "markdown",
   "id": "4f762fa5",
   "metadata": {},
   "source": [
    "## Part 2 (1 pt)\n",
    "\n",
    "Impement the LCSS distance. The function must return the distance and the set of all common subsequences as tuples."
   ]
  },
  {
   "cell_type": "code",
   "execution_count": null,
   "id": "3e6f161f",
   "metadata": {
    "deletable": false,
    "nbgrader": {
     "cell_type": "code",
     "checksum": "a1536e0b62081fbb5303cd6ae8690604",
     "grade": false,
     "grade_id": "ex3-p2",
     "locked": false,
     "schema_version": 3,
     "solution": true,
     "task": false
    }
   },
   "outputs": [],
   "source": [
    "def lccs_d(x, y):\n",
    "    n = len(x)\n",
    "    m = len(y)\n",
    "\n",
    "    if type(x) is str:\n",
    "        x = list(x)\n",
    "    if type(y) is str:\n",
    "        y = list(y)\n",
    "\n",
    "    # The matrix will hold initial values D[0,j], D[i,0]\n",
    "    # which mean nothing (distance to the empty vector)\n",
    "    # so set them to 0\n",
    "    D = np.zeros((n+1,m+1), dtype=int)\n",
    "\n",
    "    # YOUR CODE HERE\n",
    "    raise NotImplementedError()\n",
    "\n",
    "    # Apply traceback to find set LCCS\n",
    "    def backtrack(i, j):\n",
    "        # YOUR CODE HERE\n",
    "        raise NotImplementedError()\n",
    "\n",
    "    lcs_set = backtrack(n, m)\n",
    "\n",
    "    return D[n, m], lcs_set"
   ]
  },
  {
   "cell_type": "code",
   "execution_count": null,
   "id": "2cbdc028",
   "metadata": {
    "deletable": false,
    "editable": false,
    "nbgrader": {
     "cell_type": "code",
     "checksum": "3c880c6e56ae4f92a27a8f54051be73b",
     "grade": true,
     "grade_id": "ex3-p2-test",
     "locked": true,
     "points": 1,
     "schema_version": 3,
     "solution": false,
     "task": false
    }
   },
   "outputs": [],
   "source": [
    "d = lccs_d('GAC','AGCAT')\n",
    "print(f'The LCSS has length {d[0]}, expected value is 2.')\n",
    "print(f'The set of LCCSs is {d[1]}')\n",
    "print(\"The expected set is: {('G', 'C'), ('A', 'C'), ('G', 'A')}\")"
   ]
  },
  {
   "cell_type": "markdown",
   "id": "1af02cac",
   "metadata": {},
   "source": [
    "## Part 3 (1 pt)\n",
    "\n",
    "Implement the DTW distance."
   ]
  },
  {
   "cell_type": "code",
   "execution_count": null,
   "id": "94da9ad4",
   "metadata": {
    "deletable": false,
    "nbgrader": {
     "cell_type": "code",
     "checksum": "bf21ea01620c59e43f0704611a3d3079",
     "grade": false,
     "grade_id": "ex3-p3",
     "locked": false,
     "schema_version": 3,
     "solution": true,
     "task": false
    }
   },
   "outputs": [],
   "source": [
    "def dtw_d(x, y):\n",
    "    # YOUR CODE HERE\n",
    "    raise NotImplementedError()"
   ]
  },
  {
   "cell_type": "code",
   "execution_count": null,
   "id": "e71f9788",
   "metadata": {
    "deletable": false,
    "editable": false,
    "nbgrader": {
     "cell_type": "code",
     "checksum": "4e448df1de061cae5d38a06b600c5b94",
     "grade": true,
     "grade_id": "ex3-p3-test",
     "locked": true,
     "points": 1,
     "schema_version": 3,
     "solution": false,
     "task": false
    }
   },
   "outputs": [],
   "source": [
    "d = dtw_d([1,2,3], [1,2,3,5])\n",
    "print(f'The DTW distance for the example is {d}, expected value is 2.')"
   ]
  },
  {
   "cell_type": "markdown",
   "id": "3a133061",
   "metadata": {},
   "source": [
    "Check your implementations by computing by hand each of the lcss and leveshtein distances for the pairs **(1 pt)**, and compare them to the programmed solutions (no need to provide calulations):\n",
    "- ababcabc, babcbc\n",
    "- cbacbacba, acbacbacb"
   ]
  },
  {
   "cell_type": "code",
   "execution_count": null,
   "id": "54ffb2d4",
   "metadata": {
    "deletable": false,
    "editable": false,
    "nbgrader": {
     "cell_type": "code",
     "checksum": "26663c77bdb277098bd560b7c4d828fd",
     "grade": true,
     "grade_id": "cell-73cd0b85cf4ff162",
     "locked": true,
     "points": 1,
     "schema_version": 3,
     "solution": false,
     "task": false
    }
   },
   "outputs": [],
   "source": [
    "print(leveshtein_d('ababcabc', 'babcbc'))\n",
    "print(leveshtein_d('cbacbacba', 'acbacbacb'))\n",
    "print(lccs_d('ababcabc', 'babcbc'))\n",
    "print(lccs_d('cbacbacba', 'acbacbacb'))"
   ]
  },
  {
   "cell_type": "markdown",
   "id": "d000b820",
   "metadata": {},
   "source": [
    "# Exercise 4 (1 pt)\n",
    "\n",
    "Compute the cosine similarity between the two sentences, store into `cos`:\n",
    "- The sly fox jumped over the lazy dog.\n",
    "- The dog jumped at the intruder."
   ]
  },
  {
   "cell_type": "code",
   "execution_count": null,
   "id": "fe0eacd5",
   "metadata": {
    "deletable": false,
    "nbgrader": {
     "cell_type": "code",
     "checksum": "77c0950f48c31968d3cd72934b2412ff",
     "grade": false,
     "grade_id": "ex4",
     "locked": false,
     "schema_version": 3,
     "solution": true,
     "task": false
    }
   },
   "outputs": [],
   "source": [
    "# YOUR CODE HERE\n",
    "raise NotImplementedError()"
   ]
  },
  {
   "cell_type": "code",
   "execution_count": null,
   "id": "dd664ee1",
   "metadata": {
    "deletable": false,
    "editable": false,
    "nbgrader": {
     "cell_type": "code",
     "checksum": "19f6a63234c010cb358112f4b095ca72",
     "grade": true,
     "grade_id": "ex4-test",
     "locked": true,
     "points": 1,
     "schema_version": 3,
     "solution": false,
     "task": false
    }
   },
   "outputs": [],
   "source": [
    "print(f'The cosine similarity is {cos}, expected: {6/np.sqrt(80)}')"
   ]
  },
  {
   "cell_type": "markdown",
   "id": "c2d58f8a",
   "metadata": {},
   "source": [
    "# Exercise 5 (ungraded)\n",
    "\n",
    "## Part 1\n",
    "\n",
    "Assume $Edit(\\bar{X},\\bar{Y})$ represents the cost of transforming string $\\bar{X}$ to $\\bar{Y}$. Show that $Edit(\\bar{X},\\bar{Y})$ and $Edit(\\bar{Y},\\bar{X})$ are the same, as long as the insertion and deletion costs are the same."
   ]
  },
  {
   "cell_type": "markdown",
   "id": "69f351a2",
   "metadata": {
    "deletable": false,
    "nbgrader": {
     "cell_type": "markdown",
     "checksum": "04c64bb8a27b7f83e481952c0b5608f2",
     "grade": true,
     "grade_id": "cell-7adaeda461f3bb42",
     "locked": false,
     "points": 0,
     "schema_version": 3,
     "solution": true,
     "task": false
    }
   },
   "source": [
    "YOUR ANSWER HERE"
   ]
  },
  {
   "cell_type": "markdown",
   "id": "c2606701",
   "metadata": {},
   "source": [
    "## Part 2\n",
    "\n",
    "Show that $Edit(\\vec{x}_i,\\vec{y}_j)$, $LCSS(\\vec{x}_i,\\vec{y}_j)$, and $DTW(\\vec{x}_i,\\vec{y}_j)$ are all monotonic functions in $i$ and $j$."
   ]
  },
  {
   "cell_type": "markdown",
   "id": "e72c148f",
   "metadata": {
    "deletable": false,
    "nbgrader": {
     "cell_type": "markdown",
     "checksum": "459eeb7825851bf9cd9c24d5e4ff92d4",
     "grade": true,
     "grade_id": "cell-ab7232ba9e71d8a2",
     "locked": false,
     "points": 0,
     "schema_version": 3,
     "solution": true,
     "task": false
    }
   },
   "source": [
    "YOUR ANSWER HERE"
   ]
  },
  {
   "cell_type": "markdown",
   "id": "65bd1ade",
   "metadata": {},
   "source": [
    "## Part 3\n",
    "\n",
    "Suppose that insertion and deletion costs are 1, and replacement costs are 2 units for the edit distance. Show that the optimal edit distance between two strings can be computed only with insertion and deletion operations. Under the aftermentioned cost assumptions, show that the optimal edit distance can be expressed as a function of the optimal LCSS distance and the length of the two strings. "
   ]
  },
  {
   "cell_type": "markdown",
   "id": "f9fccb79",
   "metadata": {
    "deletable": false,
    "nbgrader": {
     "cell_type": "markdown",
     "checksum": "0c5c9187b1c59d17cbc409b112a25d6b",
     "grade": true,
     "grade_id": "cell-6780559de3a6f6f4",
     "locked": false,
     "points": 0,
     "schema_version": 3,
     "solution": true,
     "task": false
    }
   },
   "source": [
    "YOUR ANSWER HERE"
   ]
  }
 ],
 "metadata": {
  "kernelspec": {
   "display_name": "Python 3",
   "language": "python",
   "name": "python3"
  },
  "language_info": {
   "codemirror_mode": {
    "name": "ipython",
    "version": 3
   },
   "file_extension": ".py",
   "mimetype": "text/x-python",
   "name": "python",
   "nbconvert_exporter": "python",
   "pygments_lexer": "ipython3",
   "version": "3.8.8"
  }
 },
 "nbformat": 4,
 "nbformat_minor": 5
}
