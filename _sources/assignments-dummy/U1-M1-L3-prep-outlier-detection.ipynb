{
 "cells": [
  {
   "cell_type": "markdown",
   "metadata": {},
   "source": [
    "Before you turn this problem in, make sure everything runs as expected. First, **restart the kernel** (in the menubar, select Kernel$\\rightarrow$Restart) and then **run all cells** (in the menubar, select Cell$\\rightarrow$Run All).\n",
    "\n",
    "**IMPORTANT: DO NOT COPY OR SPLIT CELLS.** If you do, you'll mess the autograder. If need more cells to work or test things out, create a new cell. You may add as many new cells as you need.\n",
    "\n",
    "Make sure you fill in any place that says `YOUR CODE HERE` or \"YOUR ANSWER HERE\", as well as your name and group below:"
   ]
  },
  {
   "cell_type": "code",
   "execution_count": null,
   "metadata": {},
   "outputs": [],
   "source": [
    "COURSE = \"Unsupervised Learning 2021\"\n",
    "GROUP = \"D8A\"\n",
    "NAME = \"\" # Match your GitHub Classroom ID"
   ]
  },
  {
   "cell_type": "markdown",
   "metadata": {},
   "source": [
    "---"
   ]
  },
  {
   "cell_type": "code",
   "execution_count": null,
   "metadata": {},
   "outputs": [],
   "source": [
    "# Standard imports\n",
    "import numpy as np\n",
    "import matplotlib.pyplot as plt\n",
    "\n",
    "%matplotlib inline"
   ]
  },
  {
   "cell_type": "markdown",
   "metadata": {},
   "source": [
    "# Assignment: Anomaly and Outlier Detection\n",
    "\n",
    "In this assignment you'll be required to implement different outlier detection algorithms.\n",
    "\n",
    "- HBOS statistical method (TODO, skip)\n",
    "- Distance matrix (1 pt)\n",
    "- KNN (3 pts)\n",
    "- LOF (3 pts)\n",
    "- ABOD (3 pts)\n",
    "\n",
    "We'll be using the wine dataset, from the sklearn example datasets."
   ]
  },
  {
   "cell_type": "code",
   "execution_count": null,
   "metadata": {},
   "outputs": [],
   "source": [
    "from sklearn.datasets import load_wine\n",
    "\n",
    "# Select the first class (59 elements), columns 'Malic acid' and 'Proline' (see DESCR)\n",
    "X = load_wine()['data'][:59, [1,12]]\n",
    "\n",
    "# Normalize the data matrix, this step is important\n",
    "# since the scale of the two columns differs significantly\n",
    "from sklearn import preprocessing\n",
    "\n",
    "X_scaled = preprocessing.MinMaxScaler().fit_transform(X)\n",
    "\n",
    "\n",
    "#  Visualize the example dataset\n",
    "plt.plot(X[:,0], X[:,1], 'bx', mew=2, mec='k', ms=6)\n",
    "plt.axis([0, 5, 400, 1900])\n",
    "plt.xlabel('Malic acid')\n",
    "plt.ylabel('Proline');"
   ]
  },
  {
   "cell_type": "markdown",
   "metadata": {},
   "source": [
    "## Distance matrix (1 pt)\n",
    "\n",
    "Implement an algorithm to fnd the distance matrix, you will use this function for the next algorithms."
   ]
  },
  {
   "cell_type": "code",
   "execution_count": null,
   "metadata": {
    "deletable": false,
    "nbgrader": {
     "cell_type": "code",
     "checksum": "a080034942eb6d98dd7fac549ab58bad",
     "grade": false,
     "grade_id": "dist-mat",
     "locked": false,
     "schema_version": 3,
     "solution": true,
     "task": false
    }
   },
   "outputs": [],
   "source": [
    "def distance_matrix(X):\n",
    "    \"\"\"Returns the distance matrix from a data matrix X. \"\"\"\n",
    "    \n",
    "    # YOUR CODE HERE\n",
    "    raise NotImplementedError()\n",
    "    \n",
    "    return D"
   ]
  },
  {
   "cell_type": "code",
   "execution_count": null,
   "metadata": {
    "deletable": false,
    "editable": false,
    "nbgrader": {
     "cell_type": "code",
     "checksum": "e0760da90dc30864b73d44b68a0008a6",
     "grade": true,
     "grade_id": "dist-mat-test",
     "locked": true,
     "points": 1,
     "schema_version": 3,
     "solution": false,
     "task": false
    }
   },
   "outputs": [],
   "source": []
  },
  {
   "cell_type": "markdown",
   "metadata": {},
   "source": [
    "## K$^{th}$NN and KNN algorithm (3 pts)\n",
    "\n",
    "Implement both algorithms in a single function, with a flag to decide which method to use."
   ]
  },
  {
   "cell_type": "code",
   "execution_count": null,
   "metadata": {
    "deletable": false,
    "nbgrader": {
     "cell_type": "code",
     "checksum": "e321c6bac2e3285618e70e099c645ea0",
     "grade": false,
     "grade_id": "knn",
     "locked": false,
     "schema_version": 3,
     "solution": true,
     "task": false
    }
   },
   "outputs": [],
   "source": [
    "def scores_knn(X, k, kth=False):\n",
    "    \"\"\" Return the oulier scores given by the distance to the kth neighbor.\"\"\"\n",
    "    \n",
    "    # Find the distance matrix\n",
    "    # YOUR CODE HERE\n",
    "    raise NotImplementedError()\n",
    "    \n",
    "    # Sort the distance matrix row by row.\n",
    "    # YOUR CODE HERE\n",
    "    raise NotImplementedError()\n",
    "    \n",
    "    if kth:\n",
    "        # Take the k column (excluding self distance)\n",
    "        # YOUR CODE HERE\n",
    "        raise NotImplementedError()\n",
    "    else:\n",
    "        # Take the average up to the k column (excluding self distance)\n",
    "        # YOUR CODE HERE\n",
    "        raise NotImplementedError()\n",
    "    \n",
    "    return scores"
   ]
  },
  {
   "cell_type": "code",
   "execution_count": null,
   "metadata": {
    "deletable": false,
    "editable": false,
    "nbgrader": {
     "cell_type": "code",
     "checksum": "029a5c03409e74434c18476a6bf111e4",
     "grade": true,
     "grade_id": "knn-test",
     "locked": true,
     "points": 3,
     "schema_version": 3,
     "solution": false,
     "task": false
    }
   },
   "outputs": [],
   "source": [
    "# Test your solution, compare with notes.\n",
    "\n",
    "# Submitt with k=10, you may test other options\n",
    "k = 10\n",
    "kthnn_scores = scores_knn(X_scaled, k, kth=True)\n",
    "knn_scores = scores_knn(X_scaled, k, kth=False)\n",
    "\n",
    "plt.rcParams.update({'font.size': 22})\n",
    "fig = plt.figure(figsize=(10,8))\n",
    "\n",
    "plt.scatter(X[:,0], X[:,1], s=1000*kthnn_scores, edgecolors='r',\n",
    "            facecolors='none', label='Outlier scores kthnn')\n",
    "plt.scatter(X[:,0], X[:,1], s=1000*knn_scores, edgecolors='b',\n",
    "            facecolors='none', label='Outlier scores knn')\n",
    "plt.scatter(X[:,0], X[:,1], s=5, color='k', label='Data points')\n",
    "legend = plt.legend()\n",
    "legend.legendHandles[0]._sizes = [20]\n",
    "legend.legendHandles[1]._sizes = [20]\n",
    "\n",
    "plt.xlabel('Malic acid')\n",
    "plt.ylabel('Proline');"
   ]
  },
  {
   "cell_type": "markdown",
   "metadata": {},
   "source": [
    "## LOF (3 pts)\n",
    "\n",
    "Implement the function to return the LOF score of each observation. If needed consult the notes or the original paper on LOF, attatched."
   ]
  },
  {
   "cell_type": "code",
   "execution_count": null,
   "metadata": {
    "deletable": false,
    "nbgrader": {
     "cell_type": "code",
     "checksum": "18202734a95699e927808489550fa303",
     "grade": false,
     "grade_id": "lof",
     "locked": false,
     "schema_version": 3,
     "solution": true,
     "task": false
    }
   },
   "outputs": [],
   "source": [
    "def lof(X, k):\n",
    "    # Find the distance matrix\n",
    "    # YOUR CODE HERE\n",
    "    raise NotImplementedError()\n",
    "\n",
    "    # Sort the distance matrix row by row to obtain the k neighborhood of each row.\n",
    "    # YOUR CODE HERE\n",
    "    raise NotImplementedError()\n",
    "\n",
    "    # Store the k-distance of each observation\n",
    "    # YOUR CODE HERE\n",
    "    raise NotImplementedError()\n",
    "\n",
    "    # Also store the indices of the neighbors to find the k-distance of each point o.\n",
    "    # YOUR CODE HERE\n",
    "    raise NotImplementedError()\n",
    "\n",
    "    # Find the reachability distances of each neighborhood\n",
    "    # Note: Numpy fancy indexing is your friend\n",
    "    r_dist = np.zeros((len(X), k))\n",
    "    for i, x in enumerate(X):\n",
    "        for j, o in enumerate(Nk_idx[i]):\n",
    "            r_dist[i,j] = max(D[i,o], k_dist[o])\n",
    "\n",
    "    # YOUR CODE HERE\n",
    "    raise NotImplementedError()\n",
    "\n",
    "    # Find LDR for each observation\n",
    "    # YOUR CODE HERE\n",
    "    raise NotImplementedError()\n",
    "\n",
    "    #Find LOF scores\n",
    "    # YOUR CODE HERE\n",
    "    raise NotImplementedError()\n",
    "\n",
    "    return scores"
   ]
  },
  {
   "cell_type": "code",
   "execution_count": null,
   "metadata": {
    "deletable": false,
    "editable": false,
    "nbgrader": {
     "cell_type": "code",
     "checksum": "91783e51ee63a735dd781b3db9f5b75d",
     "grade": true,
     "grade_id": "lof-test",
     "locked": true,
     "points": 3,
     "schema_version": 3,
     "solution": false,
     "task": false
    }
   },
   "outputs": [],
   "source": [
    "# Submitt ussing k=10, you may test different values.\n",
    "k = 10\n",
    "lof_scores = lof(X_scaled, k)\n",
    "\n",
    "plt.scatter(X[:,0], X[:,1], s=20, c=lof_scores)\n",
    "plt.colorbar()\n",
    "\n",
    "plt.axis([0, 5, 400, 1900])\n",
    "plt.xlabel('Malic acid')\n",
    "plt.ylabel('Proline');"
   ]
  },
  {
   "cell_type": "markdown",
   "metadata": {},
   "source": [
    "## ABOD (3 pts)\n",
    "\n",
    "Implement the function to return the ABOF score of each observation. If needed consult the notes or the original paper on ABOD, attatched."
   ]
  },
  {
   "cell_type": "code",
   "execution_count": null,
   "metadata": {
    "deletable": false,
    "nbgrader": {
     "cell_type": "code",
     "checksum": "c4616beb6609c1e8ef7edc6dd7c5b89d",
     "grade": false,
     "grade_id": "abof",
     "locked": false,
     "schema_version": 3,
     "solution": true,
     "task": false
    }
   },
   "outputs": [],
   "source": [
    "def abof(a, X):\n",
    "    \"\"\" Returns abof score for X[a] \"\"\"\n",
    "\n",
    "    m = len(X)\n",
    "    # Variablea to store the first and second terms of the varince\n",
    "    var1 = 0\n",
    "    var2 = 0\n",
    "    # variable to store the normalization constant (sum of weights)\n",
    "    norm_c = 0\n",
    "\n",
    "    # Loop over all pairs of points\n",
    "    for b in range(m):\n",
    "        if a == b:\n",
    "            continue\n",
    "        for c in range(b+1, m):\n",
    "            if a == c:\n",
    "                continue\n",
    "            # YOUR CODE HERE\n",
    "            raise NotImplementedError()\n",
    "\n",
    "    var = var1/norm_c - (var2/norm_c)**2\n",
    "\n",
    "    return var"
   ]
  },
  {
   "cell_type": "code",
   "execution_count": null,
   "metadata": {},
   "outputs": [],
   "source": [
    "def abod(X):\n",
    "    \"\"\" Retrun abof scores for X \"\"\"\n",
    "    \n",
    "    scores = []\n",
    "    for a in range(len(X)):\n",
    "        scores.append(abof(a, X))\n",
    "\n",
    "    return np.array(scores)"
   ]
  },
  {
   "cell_type": "code",
   "execution_count": null,
   "metadata": {
    "deletable": false,
    "editable": false,
    "nbgrader": {
     "cell_type": "code",
     "checksum": "a4b06cc9b87006737dc7edc6a685c1c9",
     "grade": true,
     "grade_id": "abod-test",
     "locked": true,
     "points": 3,
     "schema_version": 3,
     "solution": false,
     "task": false
    }
   },
   "outputs": [],
   "source": [
    "# Submitt ussing k=10, you may test different values.\n",
    "k = 10\n",
    "abod_scores = abod(X_scaled)\n",
    "\n",
    "plt.scatter(X[:,0], X[:,1], c=np.log(abod_scores))\n",
    "plt.colorbar()\n",
    "\n",
    "plt.axis([0, 5, 400, 1900])\n",
    "plt.xlabel('Malic acid')\n",
    "plt.ylabel('Proline');"
   ]
  }
 ],
 "metadata": {
  "kernelspec": {
   "display_name": "Python 3",
   "language": "python",
   "name": "python3"
  },
  "language_info": {
   "codemirror_mode": {
    "name": "ipython",
    "version": 3
   },
   "file_extension": ".py",
   "mimetype": "text/x-python",
   "name": "python",
   "nbconvert_exporter": "python",
   "pygments_lexer": "ipython3",
   "version": "3.8.8"
  }
 },
 "nbformat": 4,
 "nbformat_minor": 4
}
