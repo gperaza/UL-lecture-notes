{
 "cells": [
  {
   "cell_type": "markdown",
   "metadata": {},
   "source": [
    "Before you turn this problem in, make sure everything runs as expected. First, **restart the kernel** (in the menubar, select Kernel$\\rightarrow$Restart) and then **run all cells** (in the menubar, select Cell$\\rightarrow$Run All).\n",
    "\n",
    "**IMPORTANT: DO NOT COPY OR SPLIT CELLS.** If you do, you'll mess the autograder. If need more cells to work or test things out, create a new cell. You may add as many new cells as you need.\n",
    "\n",
    "Make sure you fill in any place that says `YOUR CODE HERE` or \"YOUR ANSWER HERE\", as well as your name and group below:"
   ]
  },
  {
   "cell_type": "code",
   "execution_count": null,
   "metadata": {},
   "outputs": [],
   "source": [
    "COURSE = \"Unsupervised Learning 2021\"\n",
    "GROUP = \"D8A\"\n",
    "NAME = \"\" # Match your GitHub Classroom ID"
   ]
  },
  {
   "cell_type": "markdown",
   "metadata": {},
   "source": [
    "---"
   ]
  },
  {
   "cell_type": "code",
   "execution_count": null,
   "metadata": {},
   "outputs": [],
   "source": [
    "# Standard imports\n",
    "import numpy as np\n",
    "import matplotlib as mpl\n",
    "from matplotlib import pyplot as plt\n",
    "from matplotlib import cm\n",
    "\n",
    "# Helper plotting functions\n",
    "from utils import make_plot\n",
    "\n",
    "from sklearn.datasets import fetch_california_housing"
   ]
  },
  {
   "cell_type": "markdown",
   "metadata": {},
   "source": [
    "# Assignment: Normalization\n",
    "\n",
    "In this assignment we ask you to implement different normalization procedures to reproduce the notes outputs for the example data set. You may compare your plots to those in the notes to check your work.\n",
    "\n",
    "Implement the functions inside the prototypes given, do not change the function names, since the autograder expects to find those functions.\n",
    "\n",
    "- Min-max (1 pt)\n",
    "- Mean norm (2 pt)\n",
    "- Standardization (2 pt)\n",
    "- Scaling rows to unit length (2 pt)\n",
    "- Max-abs normalization (1 pt)\n",
    "- Robust scaling (2 pt)"
   ]
  },
  {
   "cell_type": "code",
   "execution_count": null,
   "metadata": {},
   "outputs": [],
   "source": [
    "# Data setup\n",
    "\n",
    "dataset = fetch_california_housing()\n",
    "X_full = dataset.data\n",
    "\n",
    "# Take only 2 features to make visualization easier\n",
    "# Feature of 0 has a long tail distribution.\n",
    "# Feature 5 has a few but very large outliers.\n",
    "\n",
    "X = X_full[:, [0, 5]]\n",
    "\n",
    "# Original Data\n",
    "make_plot('Unscaled data', X)"
   ]
  },
  {
   "cell_type": "code",
   "execution_count": null,
   "metadata": {
    "deletable": false,
    "nbgrader": {
     "cell_type": "code",
     "checksum": "f22c9bccb1a203df611bc0de367abef7",
     "grade": false,
     "grade_id": "cell-e8b36282d0712a70",
     "locked": false,
     "schema_version": 3,
     "solution": true,
     "task": false
    }
   },
   "outputs": [],
   "source": [
    "# Implement min max normalization below (1 pt)\n",
    "\n",
    "def norm_min_max(X, a=0, b=1):\n",
    "    \"\"\"Applies min-max normalization to a data matrix where each feature (column) is rescaled to the interval [a,b]\"\"\"\n",
    "    \n",
    "    # YOUR CODE HERE\n",
    "    raise NotImplementedError()\n",
    "    \n",
    "    return X_norm"
   ]
  },
  {
   "cell_type": "code",
   "execution_count": null,
   "metadata": {
    "deletable": false,
    "editable": false,
    "nbgrader": {
     "cell_type": "code",
     "checksum": "0d36a46b03eb6c4d704933c91e752508",
     "grade": true,
     "grade_id": "cell-b4524260020255ce",
     "locked": true,
     "points": 1,
     "schema_version": 3,
     "solution": false,
     "task": false
    }
   },
   "outputs": [],
   "source": [
    "# Visualize your function here. Compare with the notes output.\n",
    "\n",
    "make_plot('Min-Max scaling [0,1]', norm_min_max(X))"
   ]
  },
  {
   "cell_type": "code",
   "execution_count": null,
   "metadata": {
    "deletable": false,
    "nbgrader": {
     "cell_type": "code",
     "checksum": "4ae19b61262b8f2d3f1865d73e3856db",
     "grade": false,
     "grade_id": "cell-565715314e4262f4",
     "locked": false,
     "schema_version": 3,
     "solution": true,
     "task": false
    }
   },
   "outputs": [],
   "source": [
    "# Implement mean normalization below (2 pt)\n",
    "\n",
    "def norm_mean(X):\n",
    "    \"\"\"Applies mean normalization to a data matrix\"\"\"\n",
    "    \n",
    "    # YOUR CODE HERE\n",
    "    raise NotImplementedError()\n",
    "    \n",
    "    return X_norm"
   ]
  },
  {
   "cell_type": "code",
   "execution_count": null,
   "metadata": {
    "deletable": false,
    "editable": false,
    "nbgrader": {
     "cell_type": "code",
     "checksum": "d03ffdb19f417d7aba0e375b25342ce0",
     "grade": true,
     "grade_id": "cell-9e426d733054e25b",
     "locked": true,
     "points": 2,
     "schema_version": 3,
     "solution": false,
     "task": false
    }
   },
   "outputs": [],
   "source": [
    "make_plot('Mean-norm scaling', norm_mean(X))"
   ]
  },
  {
   "cell_type": "code",
   "execution_count": null,
   "metadata": {
    "deletable": false,
    "nbgrader": {
     "cell_type": "code",
     "checksum": "1afacbc10a12511527ca4b6318793490",
     "grade": false,
     "grade_id": "cell-831bad5e8424e2ba",
     "locked": false,
     "schema_version": 3,
     "solution": true,
     "task": false
    }
   },
   "outputs": [],
   "source": [
    "# Implement standardization below (2 pt)\n",
    "\n",
    "def norm_standardize(X):\n",
    "    \"\"\"Applies standardization to a data matrix so each feature has mean 0 and sd 1.\"\"\"\n",
    "    \n",
    "    # YOUR CODE HERE\n",
    "    raise NotImplementedError()\n",
    "    \n",
    "    return X_norm"
   ]
  },
  {
   "cell_type": "code",
   "execution_count": null,
   "metadata": {
    "deletable": false,
    "editable": false,
    "nbgrader": {
     "cell_type": "code",
     "checksum": "0b0f056564b35a4fa15c9d0a2d39cc86",
     "grade": true,
     "grade_id": "cell-6bcaa47524760c16",
     "locked": true,
     "points": 2,
     "schema_version": 3,
     "solution": false,
     "task": false
    }
   },
   "outputs": [],
   "source": [
    "make_plot('Standardization', norm_standardize(X))"
   ]
  },
  {
   "cell_type": "code",
   "execution_count": null,
   "metadata": {
    "deletable": false,
    "nbgrader": {
     "cell_type": "code",
     "checksum": "f323481bd8b7d3caf08b3c53ca97f44f",
     "grade": false,
     "grade_id": "cell-4ce1be1e6da26d6e",
     "locked": false,
     "schema_version": 3,
     "solution": true,
     "task": false
    }
   },
   "outputs": [],
   "source": [
    "# Implement row scaling to unit length below (2 pt)\n",
    "\n",
    "def norm_unit_length(X, norm=2):\n",
    "    \"\"\"Scales each feature vector of a data matrix to unit length.\"\"\"\n",
    "    \n",
    "    # YOUR CODE HERE\n",
    "    raise NotImplementedError()\n",
    "    \n",
    "    return X_norm"
   ]
  },
  {
   "cell_type": "code",
   "execution_count": null,
   "metadata": {
    "deletable": false,
    "editable": false,
    "nbgrader": {
     "cell_type": "code",
     "checksum": "9797118f6fec023a93b0370948756079",
     "grade": true,
     "grade_id": "cell-ce276936b89dd37b",
     "locked": true,
     "points": 2,
     "schema_version": 3,
     "solution": false,
     "task": false
    }
   },
   "outputs": [],
   "source": [
    "make_plot('Unit length row scaling', norm_unit_length(X))"
   ]
  },
  {
   "cell_type": "code",
   "execution_count": null,
   "metadata": {
    "deletable": false,
    "nbgrader": {
     "cell_type": "code",
     "checksum": "53445c8ba24f20f0f9f6aa10433a867c",
     "grade": false,
     "grade_id": "cell-9a3b0ccb3d63e854",
     "locked": false,
     "schema_version": 3,
     "solution": true,
     "task": false
    }
   },
   "outputs": [],
   "source": [
    "# Implement max-abs normalization below (1 pt)\n",
    "\n",
    "def norm_max_abs(X):\n",
    "    \"\"\"Applies max-abs normalization to a data matrix where each feature (column) is rescaled to within [-1,1]. Preserves sparsity.\"\"\"\n",
    "    \n",
    "    # YOUR CODE HERE\n",
    "    raise NotImplementedError()\n",
    "    \n",
    "    return X_norm"
   ]
  },
  {
   "cell_type": "code",
   "execution_count": null,
   "metadata": {
    "deletable": false,
    "editable": false,
    "nbgrader": {
     "cell_type": "code",
     "checksum": "61243ebdf2f46d6682518b7bdd3f676a",
     "grade": true,
     "grade_id": "cell-af5aec7b935caba5",
     "locked": true,
     "points": 1,
     "schema_version": 3,
     "solution": false,
     "task": false
    }
   },
   "outputs": [],
   "source": [
    "make_plot('Max-Abs scaling', norm_max_abs(X))"
   ]
  },
  {
   "cell_type": "code",
   "execution_count": null,
   "metadata": {
    "deletable": false,
    "nbgrader": {
     "cell_type": "code",
     "checksum": "c7ca9db9504d752975a04059983e91a3",
     "grade": false,
     "grade_id": "cell-5d9db4fee7ee8991",
     "locked": false,
     "schema_version": 3,
     "solution": true,
     "task": false
    }
   },
   "outputs": [],
   "source": [
    "# Implement robust scaling below (2 pts)\n",
    "\n",
    "def norm_robust(X):\n",
    "    \"\"\"Applies normalization of a data matrix based on the median and the IQR\"\"\"\n",
    "    \n",
    "    # YOUR CODE HERE\n",
    "    raise NotImplementedError()\n",
    "    \n",
    "    return X_norm"
   ]
  },
  {
   "cell_type": "code",
   "execution_count": null,
   "metadata": {
    "deletable": false,
    "editable": false,
    "nbgrader": {
     "cell_type": "code",
     "checksum": "abce2f634bf6194cfd4199cf62080636",
     "grade": true,
     "grade_id": "cell-826fc402626b0b81",
     "locked": true,
     "points": 2,
     "schema_version": 3,
     "solution": false,
     "task": false
    }
   },
   "outputs": [],
   "source": [
    "make_plot('Robust scaling', norm_robust(X))"
   ]
  }
 ],
 "metadata": {
  "kernelspec": {
   "display_name": "Python 3",
   "language": "python",
   "name": "python3"
  },
  "language_info": {
   "codemirror_mode": {
    "name": "ipython",
    "version": 3
   },
   "file_extension": ".py",
   "mimetype": "text/x-python",
   "name": "python",
   "nbconvert_exporter": "python",
   "pygments_lexer": "ipython3",
   "version": "3.8.8"
  }
 },
 "nbformat": 4,
 "nbformat_minor": 4
}
